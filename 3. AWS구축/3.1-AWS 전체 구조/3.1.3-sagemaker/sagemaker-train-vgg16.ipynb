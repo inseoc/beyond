{
 "cells": [
  {
   "cell_type": "code",
   "execution_count": 1,
   "id": "a3fccc0e",
   "metadata": {},
   "outputs": [],
   "source": [
    "import boto3\n",
    "region = boto3.session.Session().region_name\n",
    "bucket = 'sagemaker-studio-8r6zfwskopd'"
   ]
  },
  {
   "cell_type": "code",
   "execution_count": 2,
   "id": "3c8c4d22",
   "metadata": {},
   "outputs": [
    {
     "data": {
      "text/plain": [
       "'885692174401.dkr.ecr.ap-northeast-2.amazonaws.com/vgg16-tl-tf'"
      ]
     },
     "execution_count": 2,
     "metadata": {},
     "output_type": "execute_result"
    }
   ],
   "source": [
    "account=boto3.client('sts').get_caller_identity().get('Account')\n",
    "repositoryUri=\"{}.dkr.ecr.{}.amazonaws.com/vgg16-tl-tf\".format(account, region)\n",
    "repositoryUri"
   ]
  },
  {
   "cell_type": "code",
   "execution_count": 3,
   "id": "418648e9",
   "metadata": {},
   "outputs": [
    {
     "data": {
      "text/plain": [
       "'vgg16-2021-05-10-01-03-26'"
      ]
     },
     "execution_count": 3,
     "metadata": {},
     "output_type": "execute_result"
    }
   ],
   "source": [
    "from datetime import datetime\n",
    "now = datetime.now()\n",
    "job_name = 'vgg16-' + now.strftime(\"%Y-%m-%d-%H-%M-%S\")\n",
    "job_name"
   ]
  },
  {
   "cell_type": "code",
   "execution_count": 4,
   "id": "42ec938c",
   "metadata": {},
   "outputs": [],
   "source": [
    "import sagemaker\n",
    "from sagemaker import get_execution_role\n",
    "role = get_execution_role()"
   ]
  },
  {
   "cell_type": "code",
   "execution_count": 5,
   "id": "d7ddeeab",
   "metadata": {},
   "outputs": [
    {
     "data": {
      "text/plain": [
       "('s3://sagemaker-studio-8r6zfwskopd/train/',\n",
       " 's3://sagemaker-studio-8r6zfwskopd/test/',\n",
       " 's3://sagemaker-studio-8r6zfwskopd/validation/',\n",
       " 's3://sagemaker-studio-8r6zfwskopd/model/')"
      ]
     },
     "execution_count": 5,
     "metadata": {},
     "output_type": "execute_result"
    }
   ],
   "source": [
    "train='s3://{}/train/'.format(bucket)\n",
    "test='s3://{}/test/'.format(bucket)\n",
    "validation='s3://{}/validation/'.format(bucket)\n",
    "outpath='s3://{}/model/'.format(bucket)\n",
    "(train, test, validation, outpath) "
   ]
  },
  {
   "cell_type": "code",
   "execution_count": 6,
   "id": "072cbf9c",
   "metadata": {},
   "outputs": [
    {
     "data": {
      "text/plain": [
       "{'TrainingJobArn': 'arn:aws:sagemaker:ap-northeast-2:885692174401:training-job/vgg16-2021-05-10-01-03-26',\n",
       " 'ResponseMetadata': {'RequestId': 'c3a07419-a559-4b16-a6cc-49e34b37214f',\n",
       "  'HTTPStatusCode': 200,\n",
       "  'HTTPHeaders': {'x-amzn-requestid': 'c3a07419-a559-4b16-a6cc-49e34b37214f',\n",
       "   'content-type': 'application/x-amz-json-1.1',\n",
       "   'content-length': '105',\n",
       "   'date': 'Mon, 10 May 2021 01:03:37 GMT'},\n",
       "  'RetryAttempts': 0}}"
      ]
     },
     "execution_count": 6,
     "metadata": {},
     "output_type": "execute_result"
    }
   ],
   "source": [
    "sm = boto3.client('sagemaker')\n",
    "\n",
    "response = sm.create_training_job(\n",
    "      TrainingJobName=job_name,\n",
    "      AlgorithmSpecification={\n",
    "          'TrainingImage': repositoryUri,\n",
    "          'TrainingInputMode': 'File'\n",
    "      },\n",
    "      RoleArn=role,\n",
    "      InputDataConfig=[\n",
    "          {\n",
    "              'ChannelName': 'train',\n",
    "              'DataSource': {\n",
    "                  'S3DataSource': {\n",
    "                      'S3DataType': 'S3Prefix',\n",
    "                      'S3Uri': train,\n",
    "                      'S3DataDistributionType': 'FullyReplicated',\n",
    "                  },\n",
    "              },\n",
    "              'InputMode': 'File'\n",
    "          },\n",
    "                    {\n",
    "              'ChannelName': 'test',\n",
    "              'DataSource': {\n",
    "                  'S3DataSource': {\n",
    "                      'S3DataType': 'S3Prefix',\n",
    "                      'S3Uri': test,\n",
    "                      'S3DataDistributionType': 'FullyReplicated',\n",
    "                  },\n",
    "              },\n",
    "              'InputMode': 'File'\n",
    "          },\n",
    "          {\n",
    "              'ChannelName': 'validation',\n",
    "              'DataSource': {\n",
    "                  'S3DataSource': {\n",
    "                      'S3DataType': 'S3Prefix',                      \n",
    "                      'S3Uri': validation,\n",
    "                      'S3DataDistributionType': 'FullyReplicated',\n",
    "                  },\n",
    "              },\n",
    "              'InputMode': 'File'\n",
    "          },\n",
    "          \n",
    "      ],\n",
    "      OutputDataConfig={\n",
    "          'S3OutputPath': outpath\n",
    "      },\n",
    "      ResourceConfig={\n",
    "          'InstanceType': 'ml.g4dn.xlarge',\n",
    "          'InstanceCount': 1,\n",
    "          'VolumeSizeInGB': 10,\n",
    "      },\n",
    "      StoppingCondition={\n",
    "        'MaxRuntimeInSeconds': 60*60*5,\n",
    "      }\n",
    "  )\n",
    "response"
   ]
  },
  {
   "cell_type": "code",
   "execution_count": null,
   "id": "c8008e74",
   "metadata": {},
   "outputs": [],
   "source": []
  }
 ],
 "metadata": {
  "kernelspec": {
   "display_name": "conda_tensorflow2_p36",
   "language": "python",
   "name": "conda_tensorflow2_p36"
  },
  "language_info": {
   "codemirror_mode": {
    "name": "ipython",
    "version": 3
   },
   "file_extension": ".py",
   "mimetype": "text/x-python",
   "name": "python",
   "nbconvert_exporter": "python",
   "pygments_lexer": "ipython3",
   "version": "3.6.13"
  }
 },
 "nbformat": 4,
 "nbformat_minor": 5
}
