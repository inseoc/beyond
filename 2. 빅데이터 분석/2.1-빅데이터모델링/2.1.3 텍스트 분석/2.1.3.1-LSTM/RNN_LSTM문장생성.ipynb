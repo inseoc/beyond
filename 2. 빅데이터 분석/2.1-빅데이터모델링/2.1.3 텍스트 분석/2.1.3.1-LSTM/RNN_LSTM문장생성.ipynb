{
 "cells": [
  {
   "cell_type": "markdown",
   "metadata": {},
   "source": [
    "# RNN(LSTM) 함수화"
   ]
  },
  {
   "cell_type": "code",
   "execution_count": 1,
   "metadata": {
    "id": "zsJc2phmDFXt"
   },
   "outputs": [],
   "source": [
    "import tensorflow as tf\n",
    "import numpy as np"
   ]
  },
  {
   "cell_type": "code",
   "execution_count": 165,
   "metadata": {
    "colab": {
     "base_uri": "https://localhost:8080/"
    },
    "id": "_5wU5aSODGit",
    "outputId": "26187a24-37a2-42c6-ddee-a5ea8bbb052d"
   },
   "outputs": [
    {
     "name": "stdout",
     "output_type": "stream",
     "text": [
      "텍스트의 길이: 563703자\n"
     ]
    }
   ],
   "source": [
    "# 읽은 다음 파이썬 2와 호환되도록 디코딩합니다.\n",
    "text = open('/content/drive/MyDrive/neat_mall.txt', 'rb').read().decode(encoding='utf-8')\n",
    "# text = open('/content/drive/MyDrive/filter_긴팔티셔츠_text.txt', 'rb').read().decode(encoding='utf-8')\n",
    "\n",
    "# 텍스트의 길이는 그 안에 있는 문자의 수입니다.\n",
    "print ('텍스트의 길이: {}자'.format(len(text)))"
   ]
  },
  {
   "cell_type": "code",
   "execution_count": 166,
   "metadata": {
    "colab": {
     "base_uri": "https://localhost:8080/"
    },
    "id": "R--GudPkDSAJ",
    "outputId": "3e8c1618-b741-4f07-b46f-fa7c2f4bf2ee"
   },
   "outputs": [
    {
     "name": "stdout",
     "output_type": "stream",
     "text": [
      " 데일리한 에스닉 무드를 연출해드릴 랩스커트 + 니트 민소매 투피스 세트 -  ♥   에스닉한 매력으로 예쁨 가득한 랩스커트 + 니트 민소매 투피스 세트예요 .\r\n",
      "바캉스룩 , 리조트룩 , 휴양지룩 등 썸머 시즌에 딱 어울리는 세트 아이템 ! + 세트로 구성되어 상 , 하의를 각각 따로 매치하여 코디하셔도 좋답니다\r\n",
      ": ) ♥  상의의 경우 니트 패브릭의 민소매 디자인과 반폴라 디테일로 완성되었어요 .\r\n",
      "신축성이 좋아 몸에 감기며 , 편안하게 착\n"
     ]
    }
   ],
   "source": [
    "# 텍스트의 처음 250자를 살펴봅니다\n",
    "print(text[:250])"
   ]
  },
  {
   "cell_type": "code",
   "execution_count": 167,
   "metadata": {
    "colab": {
     "base_uri": "https://localhost:8080/"
    },
    "id": "is5sTIK6DV8X",
    "outputId": "af8e71a0-275f-4bc3-a8a6-177e7a905b89"
   },
   "outputs": [
    {
     "name": "stdout",
     "output_type": "stream",
     "text": [
      "고유 문자수 1076개\n"
     ]
    }
   ],
   "source": [
    "# 파일의 고유 문자수를 출력합니다.\n",
    "vocab = sorted(set(text))\n",
    "print ('고유 문자수 {}개'.format(len(vocab)))"
   ]
  },
  {
   "cell_type": "code",
   "execution_count": 168,
   "metadata": {
    "id": "znkWMkxtDYRm"
   },
   "outputs": [],
   "source": [
    "# 고유 문자에서 인덱스로 매핑 생성\n",
    "char2idx = {u:i for i, u in enumerate(vocab)}\n",
    "idx2char = np.array(vocab)\n",
    "\n",
    "text_as_int = np.array([char2idx[c] for c in text])"
   ]
  },
  {
   "cell_type": "code",
   "execution_count": 169,
   "metadata": {
    "colab": {
     "base_uri": "https://localhost:8080/"
    },
    "id": "BpR0QcR6DbPU",
    "outputId": "497e2bf3-a93f-4d1f-8f77-9677126f9b86"
   },
   "outputs": [
    {
     "name": "stdout",
     "output_type": "stream",
     "text": [
      "{\n",
      "  '\\n':   0,\n",
      "  '\\r':   1,\n",
      "  ' ' :   2,\n",
      "  '!' :   3,\n",
      "  '#' :   4,\n",
      "  '%' :   5,\n",
      "  '&' :   6,\n",
      "  \"'\" :   7,\n",
      "  '(' :   8,\n",
      "  ')' :   9,\n",
      "  '*' :  10,\n",
      "  '+' :  11,\n",
      "  ',' :  12,\n",
      "  '-' :  13,\n",
      "  '.' :  14,\n",
      "  '/' :  15,\n",
      "  ':' :  16,\n",
      "  ';' :  17,\n",
      "  '<' :  18,\n",
      "  '>' :  19,\n",
      "  ...\n",
      "}\n"
     ]
    }
   ],
   "source": [
    "print('{')\n",
    "for char,_ in zip(char2idx, range(20)):\n",
    "    print('  {:4s}: {:3d},'.format(repr(char), char2idx[char]))\n",
    "print('  ...\\n}')"
   ]
  },
  {
   "cell_type": "code",
   "execution_count": 170,
   "metadata": {
    "colab": {
     "base_uri": "https://localhost:8080/"
    },
    "id": "vfFwFTdtDdUo",
    "outputId": "280ec37c-f291-49d9-fede-542bffe68d87"
   },
   "outputs": [
    {
     "name": "stdout",
     "output_type": "stream",
     "text": [
      "' 데일리한 에스닉 무드를 연출해드릴 ' ---- 문자들이 다음의 정수로 매핑되었습니다 ---- > [   2  269  741  394 1021    2  673  602  241    2  441  295  390    2\n",
      "  681  868 1027  295  397    2]\n"
     ]
    }
   ],
   "source": [
    "# 텍스트에서 처음 20개의 문자가 숫자로 어떻게 매핑되었는지를 보여줍니다\n",
    "print ('{} ---- 문자들이 다음의 정수로 매핑되었습니다 ---- > {}'.format(repr(text[:20]), text_as_int[:20]))"
   ]
  },
  {
   "cell_type": "code",
   "execution_count": 171,
   "metadata": {
    "colab": {
     "base_uri": "https://localhost:8080/"
    },
    "id": "9D8txzUyDizm",
    "outputId": "3c0fed97-afc4-4c6e-916f-ec336ac369ac"
   },
   "outputs": [
    {
     "name": "stdout",
     "output_type": "stream",
     "text": [
      " \n",
      "데\n",
      "일\n",
      "리\n",
      "한\n",
      " \n",
      "에\n",
      "스\n",
      "닉\n",
      " \n"
     ]
    }
   ],
   "source": [
    "# 단일 입력에 대해 원하는 문장의 최대 길이\n",
    "seq_length = 100\n",
    "examples_per_epoch = len(text)//seq_length\n",
    "\n",
    "# 훈련 샘플/타깃 만들기\n",
    "char_dataset = tf.data.Dataset.from_tensor_slices(text_as_int)\n",
    "\n",
    "for i in char_dataset.take(10):\n",
    "  print(idx2char[i.numpy()])"
   ]
  },
  {
   "cell_type": "code",
   "execution_count": 172,
   "metadata": {
    "colab": {
     "base_uri": "https://localhost:8080/"
    },
    "id": "b_wWYluaDvKd",
    "outputId": "176d372a-639c-4cc0-a0a0-cfa0cb4caa7b"
   },
   "outputs": [
    {
     "name": "stdout",
     "output_type": "stream",
     "text": [
      "' 데일리한 에스닉 무드를 연출해드릴 랩스커트 + 니트 민소매 투피스 세트 -  ♥   에스닉한 매력으로 예쁨 가득한 랩스커트 + 니트 민소매 투피스 세트예요 .\\r\\n바캉스룩 , 리조트'\n",
      "'룩 , 휴양지룩 등 썸머 시즌에 딱 어울리는 세트 아이템 ! + 세트로 구성되어 상 , 하의를 각각 따로 매치하여 코디하셔도 좋답니다\\r\\n: ) ♥  상의의 경우 니트 패브릭의 민소매'\n",
      "' 디자인과 반폴라 디테일로 완성되었어요 .\\r\\n신축성이 좋아 몸에 감기며 , 편안하게 착용하실 수 있답니다 .\\r\\n스커트의 경우 , 안감 디테일이 없이 랩 디자인으로 완성되었어요 .\\r\\n'\n",
      "'에스닉한 무드의 패턴이 페미닌한 무드를 연출해드리며 , 체형에 구애 없이 입기 좋아 꼭 ! 추천해드리고 싶어요 ~ ♥  free 사이즈로 준비되었으니 하단의 상세사이즈를 참고해주세요'\n",
      "' .\\r\\n~ 반 사이즈까지 추천드려요 .\\r\\n\\r\\n: ) ★첫 세탁시 드라이 크리닝을 권해드리며 이후에는 단독세탁을 하셔도 무방하답니다 .\\r\\n 상의 -  +  하의 -  두께 : 얇음 ,'\n",
      "' 비침 : 없음 신축 : 중간 ( 상의 ) , 안감 : 없음 세탁법 : 손세탁 드라이 단독세탁 울세탁 \\r\\n 보송한 생크림같은 촉감 화사한 파스텔리 컬러 구성의 베이직 라운드넥 부소매'\n",
      "' 니트탑 -  ♥  이 중에서 고객님이 좋아하는 컬러 , 필요한 컬러가 한두개는 있을 걸요 ! ?\\r\\n시즌에 어울리는 화사한 컬러 구성의 보들보들 생크림 감촉 데일리 니트웨어♡ 스커트'\n",
      "' , 데님진 , 슬랙스 등등 어디에나 잘 어울리기 때문에 캐쥬얼룩은 물론 오피스룩 , 로맨틱룩 등 어떤 코디에도 자유롭게 코디하기 좋은 제품이에요\\r\\n: ) ♥  깔끔한 룩을 연출해드'\n",
      "'리며 단독 , 레이어드 어디든 매치 가능한 베이직 라운드넥 디자인이랍니다 .\\r\\n늘어지지 않고 복원력이 좋은 쫀쫀함에 , 표면이 정말 보송보송 부드러워서 계절 내내 손이 갈 제품이에요'\n",
      "' .\\r\\n부담스럽게 너무 타이트하지도 않고 벙벙하게 루즈하지도 않은 베이직한 내츄럴 핏감으로 제작되어 누구나 예쁘고 편안하게 입을 수 있답니다 - ♥  free 사이즈로 준비되었으니 '\n"
     ]
    }
   ],
   "source": [
    "sequences = char_dataset.batch(seq_length+1, drop_remainder=True)\n",
    "\n",
    "for item in sequences.take(10):\n",
    "  print(repr(''.join(idx2char[item.numpy()])))"
   ]
  },
  {
   "cell_type": "code",
   "execution_count": 173,
   "metadata": {
    "id": "yrsvIVWrDzta"
   },
   "outputs": [],
   "source": [
    "def split_input_target(chunk):\n",
    "    input_text = chunk[:-1]\n",
    "    target_text = chunk[1:]\n",
    "    return input_text, target_text\n",
    "\n",
    "dataset = sequences.map(split_input_target)"
   ]
  },
  {
   "cell_type": "code",
   "execution_count": 174,
   "metadata": {
    "colab": {
     "base_uri": "https://localhost:8080/"
    },
    "id": "zN5r2BKOD4yC",
    "outputId": "672e01de-1951-4d30-fd06-155a87675d43"
   },
   "outputs": [
    {
     "name": "stdout",
     "output_type": "stream",
     "text": [
      "입력 데이터:  ' 데일리한 에스닉 무드를 연출해드릴 랩스커트 + 니트 민소매 투피스 세트 -  ♥   에스닉한 매력으로 예쁨 가득한 랩스커트 + 니트 민소매 투피스 세트예요 .\\r\\n바캉스룩 , 리조'\n",
      "타깃 데이터:  '데일리한 에스닉 무드를 연출해드릴 랩스커트 + 니트 민소매 투피스 세트 -  ♥   에스닉한 매력으로 예쁨 가득한 랩스커트 + 니트 민소매 투피스 세트예요 .\\r\\n바캉스룩 , 리조트'\n"
     ]
    }
   ],
   "source": [
    "for input_example, target_example in  dataset.take(1):\n",
    "  print ('입력 데이터: ', repr(''.join(idx2char[input_example.numpy()])))\n",
    "  print ('타깃 데이터: ', repr(''.join(idx2char[target_example.numpy()])))"
   ]
  },
  {
   "cell_type": "code",
   "execution_count": 175,
   "metadata": {
    "colab": {
     "base_uri": "https://localhost:8080/"
    },
    "id": "g1rL7MyfD7Jt",
    "outputId": "5f4dfca6-7dbd-4ad9-8b79-020a2c626478"
   },
   "outputs": [
    {
     "name": "stdout",
     "output_type": "stream",
     "text": [
      "   0단계\n",
      "  입력: 2 (' ')\n",
      "  예상 출력: 269 ('데')\n",
      "   1단계\n",
      "  입력: 269 ('데')\n",
      "  예상 출력: 741 ('일')\n",
      "   2단계\n",
      "  입력: 741 ('일')\n",
      "  예상 출력: 394 ('리')\n",
      "   3단계\n",
      "  입력: 394 ('리')\n",
      "  예상 출력: 1021 ('한')\n",
      "   4단계\n",
      "  입력: 1021 ('한')\n",
      "  예상 출력: 2 (' ')\n"
     ]
    }
   ],
   "source": [
    "for i, (input_idx, target_idx) in enumerate(zip(input_example[:5], target_example[:5])):\n",
    "    print(\"{:4d}단계\".format(i))\n",
    "    print(\"  입력: {} ({:s})\".format(input_idx, repr(idx2char[input_idx])))\n",
    "    print(\"  예상 출력: {} ({:s})\".format(target_idx, repr(idx2char[target_idx])))"
   ]
  },
  {
   "cell_type": "code",
   "execution_count": 176,
   "metadata": {
    "colab": {
     "base_uri": "https://localhost:8080/"
    },
    "id": "TV5mI6J-EAkp",
    "outputId": "93dc814b-6e66-4559-a143-f743b7154dec"
   },
   "outputs": [
    {
     "data": {
      "text/plain": [
       "<BatchDataset shapes: ((64, 100), (64, 100)), types: (tf.int64, tf.int64)>"
      ]
     },
     "execution_count": 176,
     "metadata": {
      "tags": []
     },
     "output_type": "execute_result"
    }
   ],
   "source": [
    "# 배치 크기\n",
    "BATCH_SIZE = 64\n",
    "\n",
    "# 데이터셋을 섞을 버퍼 크기\n",
    "# (TF 데이터는 무한한 시퀀스와 함께 작동이 가능하도록 설계되었으며,\n",
    "# 따라서 전체 시퀀스를 메모리에 섞지 않습니다. 대신에,\n",
    "# 요소를 섞는 버퍼를 유지합니다).\n",
    "BUFFER_SIZE = 5000\n",
    "\n",
    "dataset = dataset.shuffle(BUFFER_SIZE).batch(BATCH_SIZE, drop_remainder=True)\n",
    "\n",
    "dataset"
   ]
  },
  {
   "cell_type": "code",
   "execution_count": 177,
   "metadata": {
    "id": "cRIEd1PREHso"
   },
   "outputs": [],
   "source": [
    "# 문자로 된 어휘 사전의 크기\n",
    "vocab_size = len(vocab)\n",
    "\n",
    "# 임베딩 차원\n",
    "embedding_dim = 256\n",
    "\n",
    "# RNN 유닛(unit) 개수\n",
    "rnn_units = 1024"
   ]
  },
  {
   "cell_type": "code",
   "execution_count": 178,
   "metadata": {
    "id": "do18hYiaEOtT"
   },
   "outputs": [],
   "source": [
    "def build_model(vocab_size, embedding_dim, rnn_units, batch_size):\n",
    "    model = tf.keras.Sequential([\n",
    "        tf.keras.layers.Embedding(vocab_size, embedding_dim,\n",
    "                                  batch_input_shape=[batch_size, None]),\n",
    "        tf.keras.layers.LSTM(rnn_units,\n",
    "                             return_sequences=True,\n",
    "                             stateful=True,\n",
    "                             recurrent_initializer='glorot_uniform'),\n",
    "        tf.keras.layers.Dense(vocab_size)\n",
    "  ])\n",
    "    return model"
   ]
  },
  {
   "cell_type": "code",
   "execution_count": 179,
   "metadata": {
    "colab": {
     "base_uri": "https://localhost:8080/"
    },
    "id": "z4qnhglmESZG",
    "outputId": "69bff5c2-3fa5-4045-eba7-8d4fb7508e31"
   },
   "outputs": [
    {
     "name": "stdout",
     "output_type": "stream",
     "text": [
      "WARNING:tensorflow:Unresolved object in checkpoint: (root).optimizer\n",
      "WARNING:tensorflow:Unresolved object in checkpoint: (root).optimizer.iter\n",
      "WARNING:tensorflow:Unresolved object in checkpoint: (root).optimizer.beta_1\n",
      "WARNING:tensorflow:Unresolved object in checkpoint: (root).optimizer.beta_2\n",
      "WARNING:tensorflow:Unresolved object in checkpoint: (root).optimizer.decay\n",
      "WARNING:tensorflow:Unresolved object in checkpoint: (root).optimizer.learning_rate\n",
      "WARNING:tensorflow:Unresolved object in checkpoint: (root).optimizer's state 'm' for (root).layer_with_weights-0.embeddings\n",
      "WARNING:tensorflow:Unresolved object in checkpoint: (root).optimizer's state 'm' for (root).layer_with_weights-2.kernel\n",
      "WARNING:tensorflow:Unresolved object in checkpoint: (root).optimizer's state 'm' for (root).layer_with_weights-2.bias\n",
      "WARNING:tensorflow:Unresolved object in checkpoint: (root).optimizer's state 'm' for (root).layer_with_weights-1.cell.kernel\n",
      "WARNING:tensorflow:Unresolved object in checkpoint: (root).optimizer's state 'm' for (root).layer_with_weights-1.cell.recurrent_kernel\n",
      "WARNING:tensorflow:Unresolved object in checkpoint: (root).optimizer's state 'm' for (root).layer_with_weights-1.cell.bias\n",
      "WARNING:tensorflow:Unresolved object in checkpoint: (root).optimizer's state 'v' for (root).layer_with_weights-0.embeddings\n",
      "WARNING:tensorflow:Unresolved object in checkpoint: (root).optimizer's state 'v' for (root).layer_with_weights-2.kernel\n",
      "WARNING:tensorflow:Unresolved object in checkpoint: (root).optimizer's state 'v' for (root).layer_with_weights-2.bias\n",
      "WARNING:tensorflow:Unresolved object in checkpoint: (root).optimizer's state 'v' for (root).layer_with_weights-1.cell.kernel\n",
      "WARNING:tensorflow:Unresolved object in checkpoint: (root).optimizer's state 'v' for (root).layer_with_weights-1.cell.recurrent_kernel\n",
      "WARNING:tensorflow:Unresolved object in checkpoint: (root).optimizer's state 'v' for (root).layer_with_weights-1.cell.bias\n",
      "WARNING:tensorflow:A checkpoint was restored (e.g. tf.train.Checkpoint.restore or tf.keras.Model.load_weights) but not all checkpointed values were used. See above for specific issues. Use expect_partial() on the load status object, e.g. tf.train.Checkpoint.restore(...).expect_partial(), to silence these warnings, or use assert_consumed() to make the check explicit. See https://www.tensorflow.org/guide/checkpoint#loading_mechanics for details.\n"
     ]
    }
   ],
   "source": [
    "model = build_model(vocab_size = len(vocab),\n",
    "                    embedding_dim=embedding_dim,\n",
    "                    rnn_units=rnn_units,\n",
    "                    batch_size=BATCH_SIZE)"
   ]
  },
  {
   "cell_type": "code",
   "execution_count": 180,
   "metadata": {
    "colab": {
     "base_uri": "https://localhost:8080/"
    },
    "id": "JTEepWqjEVK3",
    "outputId": "89c30f24-cd47-4ef3-920e-72a87507d89d"
   },
   "outputs": [
    {
     "name": "stdout",
     "output_type": "stream",
     "text": [
      "(64, 100, 1076) # (배치 크기, 시퀀스 길이, 어휘 사전 크기)\n"
     ]
    }
   ],
   "source": [
    "for input_example_batch, target_example_batch in dataset.take(1):\n",
    "  example_batch_predictions = model(input_example_batch)\n",
    "  print(example_batch_predictions.shape, \"# (배치 크기, 시퀀스 길이, 어휘 사전 크기)\")"
   ]
  },
  {
   "cell_type": "code",
   "execution_count": 181,
   "metadata": {
    "colab": {
     "base_uri": "https://localhost:8080/"
    },
    "id": "_Ck0XurjEYsY",
    "outputId": "aaedf8a3-ddf4-44e5-eb8f-d1a8678d022e"
   },
   "outputs": [
    {
     "name": "stdout",
     "output_type": "stream",
     "text": [
      "Model: \"sequential_14\"\n",
      "_________________________________________________________________\n",
      "Layer (type)                 Output Shape              Param #   \n",
      "=================================================================\n",
      "embedding_14 (Embedding)     (64, None, 256)           275456    \n",
      "_________________________________________________________________\n",
      "lstm_14 (LSTM)               (64, None, 1024)          5246976   \n",
      "_________________________________________________________________\n",
      "dense_14 (Dense)             (64, None, 1076)          1102900   \n",
      "=================================================================\n",
      "Total params: 6,625,332\n",
      "Trainable params: 6,625,332\n",
      "Non-trainable params: 0\n",
      "_________________________________________________________________\n"
     ]
    }
   ],
   "source": [
    "model.summary()"
   ]
  },
  {
   "cell_type": "code",
   "execution_count": 182,
   "metadata": {
    "id": "e6BpVgS4EcGK"
   },
   "outputs": [],
   "source": [
    "sampled_indices = tf.random.categorical(example_batch_predictions[0], num_samples=1)\n",
    "sampled_indices = tf.squeeze(sampled_indices,axis=-1).numpy()"
   ]
  },
  {
   "cell_type": "code",
   "execution_count": 183,
   "metadata": {
    "colab": {
     "base_uri": "https://localhost:8080/"
    },
    "id": "Bm8qNrJYEkjk",
    "outputId": "72650c76-a10e-42ce-8b16-56bfad6da5c7"
   },
   "outputs": [
    {
     "data": {
      "text/plain": [
       "array([ 628, 1040,  369,  453,  335,  308,  515,  763, 1030,  497,  337,\n",
       "        515,  211,  492,  616,  390,  141,  858,  422,  237,  599,  725,\n",
       "        981,  809,  804,  539,   97,  836, 1049,  836,  335,  328,  524,\n",
       "        293,  695,  632,  427,  522,  265,  866,  924,  924,  919,  342,\n",
       "        470,  695,  862,  917,   23,  513,  111,  599,  949,  963,  324,\n",
       "        800,  830,  498,  434,  949,  353,  548,  239,  743,  524,  981,\n",
       "        665,  143,  701,  472,  984,  602,  839,  433,  168,  543,  590,\n",
       "         25,  342,  710,  271,  139,  822,  194,   79,  752,  140,  206,\n",
       "        631,  966,  369,  813,  884,  161,  584,  233, 1014,   21,  761,\n",
       "        208])"
      ]
     },
     "execution_count": 183,
     "metadata": {
      "tags": []
     },
     "output_type": "execute_result"
    }
   ],
   "source": [
    "sampled_indices"
   ]
  },
  {
   "cell_type": "code",
   "execution_count": 184,
   "metadata": {
    "colab": {
     "base_uri": "https://localhost:8080/"
    },
    "id": "foms4_Y8EmDT",
    "outputId": "296430c2-be8e-4ba9-8761-2b582b6c0fe6"
   },
   "outputs": [
    {
     "name": "stdout",
     "output_type": "stream",
     "text": [
      "입력: \n",
      " ' 있으며 , 오픈하거나 내츄럴하게 걸쳤을때에 더 예쁜 아이템이에요\\r\\n♡ s / s 시즌내내 입고 다니게 될 데일리 베이직 아이템 , 지금 만나보세요 ~ ♥  free 사이즈로 준비'\n",
      "\n",
      "예측된 다음 문자: \n",
      " '쏙혔렷미랄따빅적했복랍빅널변십를글촘먼늘쉬윈패짙질쁜겉참환참랄뜸뺀뒷올쓰멜빵덥축키키큐래밤올촬퀘]블고쉬토특뚫증찜본몫토럴삼늬입뺀패언금왔방팽스찾목꼬삐숏a래우델극쫀낙갓잖근냉쑥틀렷짧칩껄솟뉘픽[쟁냥'\n"
     ]
    }
   ],
   "source": [
    "print(\"입력: \\n\", repr(\"\".join(idx2char[input_example_batch[0]])))\n",
    "print()\n",
    "print(\"예측된 다음 문자: \\n\", repr(\"\".join(idx2char[sampled_indices ])))"
   ]
  },
  {
   "cell_type": "code",
   "execution_count": 185,
   "metadata": {
    "colab": {
     "base_uri": "https://localhost:8080/"
    },
    "id": "mPlKcEjPEvCV",
    "outputId": "3a5a9a0b-aac2-4cee-8258-630d9899b129"
   },
   "outputs": [
    {
     "name": "stdout",
     "output_type": "stream",
     "text": [
      "예측 배열 크기(shape):  (64, 100, 1076)  # (배치 크기, 시퀀스 길이, 어휘 사전 크기\n",
      "스칼라 손실:           6.981339\n"
     ]
    }
   ],
   "source": [
    "def loss(labels, logits):\n",
    "  return tf.keras.losses.sparse_categorical_crossentropy(labels, logits, from_logits=True)\n",
    "\n",
    "example_batch_loss  = loss(target_example_batch, example_batch_predictions)\n",
    "print(\"예측 배열 크기(shape): \", example_batch_predictions.shape, \" # (배치 크기, 시퀀스 길이, 어휘 사전 크기\")\n",
    "print(\"스칼라 손실:          \", example_batch_loss.numpy().mean())"
   ]
  },
  {
   "cell_type": "code",
   "execution_count": 186,
   "metadata": {
    "id": "xOSgXfOeEn_7"
   },
   "outputs": [],
   "source": [
    "model.compile(optimizer='adam', loss=loss)"
   ]
  },
  {
   "cell_type": "code",
   "execution_count": 187,
   "metadata": {
    "id": "M6y6nopJF9-G"
   },
   "outputs": [],
   "source": [
    "# 체크포인트가 저장될 디렉토리\n",
    "checkpoint_dir = './training_checkpoints'\n",
    "# 체크포인트 파일 이름\n",
    "checkpoint_prefix = os.path.join(checkpoint_dir, \"ckpt_{epoch}\")\n",
    "\n",
    "checkpoint_callback=tf.keras.callbacks.ModelCheckpoint(\n",
    "    filepath=checkpoint_prefix,\n",
    "    save_weights_only=True)"
   ]
  },
  {
   "cell_type": "code",
   "execution_count": 188,
   "metadata": {
    "colab": {
     "base_uri": "https://localhost:8080/"
    },
    "id": "oVSVYOQnFD3X",
    "outputId": "016f2556-7254-4f0a-d770-c2604110c79f"
   },
   "outputs": [
    {
     "name": "stdout",
     "output_type": "stream",
     "text": [
      "Epoch 1/30\n",
      "87/87 [==============================] - 8s 75ms/step - loss: 5.0397\n",
      "Epoch 2/30\n",
      "87/87 [==============================] - 7s 75ms/step - loss: 3.7862\n",
      "Epoch 3/30\n",
      "87/87 [==============================] - 7s 76ms/step - loss: 2.6211\n",
      "Epoch 4/30\n",
      "87/87 [==============================] - 7s 77ms/step - loss: 2.0838\n",
      "Epoch 5/30\n",
      "87/87 [==============================] - 7s 77ms/step - loss: 1.8487\n",
      "Epoch 6/30\n",
      "87/87 [==============================] - 7s 77ms/step - loss: 1.7092\n",
      "Epoch 7/30\n",
      "87/87 [==============================] - 7s 78ms/step - loss: 1.5767\n",
      "Epoch 8/30\n",
      "87/87 [==============================] - 7s 78ms/step - loss: 1.5094\n",
      "Epoch 9/30\n",
      "87/87 [==============================] - 7s 78ms/step - loss: 1.4489\n",
      "Epoch 10/30\n",
      "87/87 [==============================] - 7s 79ms/step - loss: 1.3998\n",
      "Epoch 11/30\n",
      "87/87 [==============================] - 7s 79ms/step - loss: 1.3296\n",
      "Epoch 12/30\n",
      "87/87 [==============================] - 7s 79ms/step - loss: 1.3025\n",
      "Epoch 13/30\n",
      "87/87 [==============================] - 7s 79ms/step - loss: 1.2551\n",
      "Epoch 14/30\n",
      "87/87 [==============================] - 7s 80ms/step - loss: 1.2224\n",
      "Epoch 15/30\n",
      "87/87 [==============================] - 7s 80ms/step - loss: 1.2084\n",
      "Epoch 16/30\n",
      "87/87 [==============================] - 7s 80ms/step - loss: 1.1623\n",
      "Epoch 17/30\n",
      "87/87 [==============================] - 7s 81ms/step - loss: 1.1530\n",
      "Epoch 18/30\n",
      "87/87 [==============================] - 8s 81ms/step - loss: 1.1106\n",
      "Epoch 19/30\n",
      "87/87 [==============================] - 8s 81ms/step - loss: 1.0853\n",
      "Epoch 20/30\n",
      "87/87 [==============================] - 8s 82ms/step - loss: 1.0707\n",
      "Epoch 21/30\n",
      "87/87 [==============================] - 8s 82ms/step - loss: 1.0470\n",
      "Epoch 22/30\n",
      "87/87 [==============================] - 8s 82ms/step - loss: 1.0150\n",
      "Epoch 23/30\n",
      "87/87 [==============================] - 8s 82ms/step - loss: 0.9997\n",
      "Epoch 24/30\n",
      "87/87 [==============================] - 8s 82ms/step - loss: 0.9750\n",
      "Epoch 25/30\n",
      "87/87 [==============================] - 8s 82ms/step - loss: 0.9571\n",
      "Epoch 26/30\n",
      "87/87 [==============================] - 8s 82ms/step - loss: 0.9449\n",
      "Epoch 27/30\n",
      "87/87 [==============================] - 8s 82ms/step - loss: 0.9197\n",
      "Epoch 28/30\n",
      "87/87 [==============================] - 8s 82ms/step - loss: 0.8861\n",
      "Epoch 29/30\n",
      "87/87 [==============================] - 8s 82ms/step - loss: 0.8823\n",
      "Epoch 30/30\n",
      "87/87 [==============================] - 8s 82ms/step - loss: 0.8482\n"
     ]
    }
   ],
   "source": [
    "history = model.fit(dataset, epochs=30, callbacks=[checkpoint_callback])"
   ]
  },
  {
   "cell_type": "code",
   "execution_count": 189,
   "metadata": {
    "colab": {
     "base_uri": "https://localhost:8080/",
     "height": 35
    },
    "id": "r6ClRMhvFKEi",
    "outputId": "170b59ba-492c-4c30-db87-7f3c1a7d3b57"
   },
   "outputs": [
    {
     "data": {
      "application/vnd.google.colaboratory.intrinsic+json": {
       "type": "string"
      },
      "text/plain": [
       "'./training_checkpoints/ckpt_30'"
      ]
     },
     "execution_count": 189,
     "metadata": {
      "tags": []
     },
     "output_type": "execute_result"
    }
   ],
   "source": [
    "tf.train.latest_checkpoint(checkpoint_dir)"
   ]
  },
  {
   "cell_type": "code",
   "execution_count": 190,
   "metadata": {
    "id": "MFKrLHDuGf5k"
   },
   "outputs": [],
   "source": [
    "model = build_model(vocab_size, embedding_dim, rnn_units, batch_size=1)\n",
    "\n",
    "model.load_weights(tf.train.latest_checkpoint(checkpoint_dir))\n",
    "\n",
    "model.build(tf.TensorShape([1, None]))"
   ]
  },
  {
   "cell_type": "code",
   "execution_count": 191,
   "metadata": {
    "colab": {
     "base_uri": "https://localhost:8080/"
    },
    "id": "qJ4t3zg3Gi37",
    "outputId": "a3786dd8-c14d-4882-8f78-88482000ca40"
   },
   "outputs": [
    {
     "name": "stdout",
     "output_type": "stream",
     "text": [
      "Model: \"sequential_15\"\n",
      "_________________________________________________________________\n",
      "Layer (type)                 Output Shape              Param #   \n",
      "=================================================================\n",
      "embedding_15 (Embedding)     (1, None, 256)            275456    \n",
      "_________________________________________________________________\n",
      "lstm_15 (LSTM)               (1, None, 1024)           5246976   \n",
      "_________________________________________________________________\n",
      "dense_15 (Dense)             (1, None, 1076)           1102900   \n",
      "=================================================================\n",
      "Total params: 6,625,332\n",
      "Trainable params: 6,625,332\n",
      "Non-trainable params: 0\n",
      "_________________________________________________________________\n"
     ]
    }
   ],
   "source": [
    "model.summary()"
   ]
  },
  {
   "cell_type": "code",
   "execution_count": 194,
   "metadata": {
    "id": "yzCCymJzGkeK"
   },
   "outputs": [],
   "source": [
    "def generate_text(model, start_string):\n",
    "  # 평가 단계 (학습된 모델을 사용하여 텍스트 생성)\n",
    "\n",
    "  # 생성할 문자의 수\n",
    "  num_generate = 1000\n",
    "\n",
    "  # 시작 문자열을 숫자로 변환(벡터화)\n",
    "  input_eval = [char2idx[s] for s in start_string]\n",
    "  input_eval = tf.expand_dims(input_eval, 0)\n",
    "\n",
    "  # 결과를 저장할 빈 문자열\n",
    "  text_generated = []\n",
    "\n",
    "  # 온도가 낮으면 더 예측 가능한 텍스트가 됩니다.\n",
    "  # 온도가 높으면 더 의외의 텍스트가 됩니다.\n",
    "  # 최적의 세팅을 찾기 위한 실험\n",
    "  temperature = 0.2\n",
    "\n",
    "  # 여기에서 배치 크기 == 1\n",
    "  model.reset_states()\n",
    "  for i in range(num_generate):\n",
    "      predictions = model(input_eval)\n",
    "      # 배치 차원 제거\n",
    "      predictions = tf.squeeze(predictions, 0)\n",
    "\n",
    "      # 범주형 분포를 사용하여 모델에서 리턴한 단어 예측\n",
    "      predictions = predictions / temperature\n",
    "      predicted_id = tf.random.categorical(predictions, num_samples=1)[-1,0].numpy()\n",
    "\n",
    "      # 예측된 단어를 다음 입력으로 모델에 전달\n",
    "      # 이전 은닉 상태와 함께\n",
    "      input_eval = tf.expand_dims([predicted_id], 0)\n",
    "\n",
    "      text_generated.append(idx2char[predicted_id])\n",
    "\n",
    "  return (start_string + ''.join(text_generated))"
   ]
  },
  {
   "cell_type": "code",
   "execution_count": 195,
   "metadata": {
    "colab": {
     "base_uri": "https://localhost:8080/"
    },
    "id": "lYOc7hx5GnmC",
    "outputId": "a336c3ed-855b-4bf5-f52c-7cf4bdf9552e"
   },
   "outputs": [
    {
     "name": "stdout",
     "output_type": "stream",
     "text": [
      "사이즈표를 꼭 확인 후 초이스해주세요 .\r\n",
      "* 좋은 소재 , 오랫 동안 예쁘게 유지되도록 세탁기 , 세탁건조기 사용은 무조건 피해주시고 , 물세탁을 하실 경우에는 따뜻하지 않은 미온수에 울세제로 간단한 단독 손세탁을 권장드려요 .\r\n",
      "■   +  + \r\n",
      " ( s ) / shoriating % 두께 : 중간 , 비침 : 없음 신축 : 높음 , 안감 : 없음 세탁법 : 손세탁 드라이 단독세탁 울세탁 세탁기금지 세탁건조기 사용불가 \r\n",
      " 고급스러운 무드를 선사할 니트 가디건 소개해드릴게요 : ) 부드러운 터치감으로 피부가 예민한 고객님들도 부담없이 착용 가능하답니다 .\r\n",
      "♥  free 사이즈로 준비되었으니 하단의 상세사이즈를 참고해주세요 .\r\n",
      "~ 반 사이즈까지 추천드려요 .\r\n",
      "* 사이즈 , 핏감은 체형에 따라 개인차가 있다는 점 감안해주세요\r\n",
      ": )   두께 : 중간 , 비침 : 중간 신축 : 높음 , 안감 : 없음 세탁법 : 손세탁 드라이 단독세탁 울세탁 세탁기금지 세탁건조기 사용불가 \r\n",
      " 고급스러운 진주 버튼 포인트의 루즈핏 니트 -  ♥  고객님들의 사랑을 받고 있는 ts , mint 니트 가디건 ! 이번에는 단독으로 입어도 좋은 아이템이에요 .\r\n",
      "♥  free 사이즈로 준비되었으니 하단의 상세사이즈를 참고해주세요 .\r\n",
      "~ 반 사이즈까지 추천드려요 .\r\n",
      "* 사이즈 , 핏감은 체형에 따라 개인차가 있다는 점 감안해주세요\r\n",
      ": )   두께 : 중간 , 비침 : 없음 신축 : 높음 , 안감 : 없음 세탁법 : 손세탁 드라이 단독세탁 울세탁 세탁기금지 세탁건조기 사용불가 \r\n",
      " 여리한 컬러 배색♥  ♥  깔끔한 컬러감의 배색 디자인의 니트 가디건 소개해드려요 .\r\n",
      "가지 컬러로 준비했으니 굿초이스하세요 - ♪ ♥  free 사이즈로 준비되었으니 하단의 상세사이즈를 참고해주세요 .\r\n",
      "~ 반 사이즈까지 추천드려요 .\r\n",
      "* 사이즈 , 핏감은 체형에 따라 개인차가 있다는 점 감안해주세요\r\n",
      ": )   +  두께 : 중간 , 비침 : 없음 신축 : 높음 , 안감 : 없음 세탁법 : 손세탁 \n"
     ]
    }
   ],
   "source": [
    "print(generate_text(model, start_string=u\"사이즈\"))"
   ]
  },
  {
   "cell_type": "code",
   "execution_count": null,
   "metadata": {
    "id": "8Fu05zFLGrfs"
   },
   "outputs": [],
   "source": []
  }
 ],
 "metadata": {
  "colab": {
   "collapsed_sections": [],
   "name": "RNN문장생성.ipynb",
   "provenance": []
  },
  "kernelspec": {
   "display_name": "Python 3",
   "language": "python",
   "name": "python3"
  },
  "language_info": {
   "codemirror_mode": {
    "name": "ipython",
    "version": 3
   },
   "file_extension": ".py",
   "mimetype": "text/x-python",
   "name": "python",
   "nbconvert_exporter": "python",
   "pygments_lexer": "ipython3",
   "version": "3.8.5"
  }
 },
 "nbformat": 4,
 "nbformat_minor": 1
}
